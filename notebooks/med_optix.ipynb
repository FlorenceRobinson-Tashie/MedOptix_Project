{
 "cells": [
  {
   "cell_type": "markdown",
   "id": "9de90c7c",
   "metadata": {},
   "source": [
    "## Import All Necessary Libraries"
   ]
  },
  {
   "cell_type": "code",
   "execution_count": 14,
   "id": "2977cfd9",
   "metadata": {},
   "outputs": [
    {
     "name": "stdout",
     "output_type": "stream",
     "text": [
      "Requirement already satisfied: boto3 in c:\\florence personal\\documents\\data science projects\\amdari accelerate internship projects folder\\medoptix_project_folder\\med_env\\lib\\site-packages (1.39.3)\n",
      "Requirement already satisfied: botocore<1.40.0,>=1.39.3 in c:\\florence personal\\documents\\data science projects\\amdari accelerate internship projects folder\\medoptix_project_folder\\med_env\\lib\\site-packages (from boto3) (1.39.3)\n",
      "Requirement already satisfied: jmespath<2.0.0,>=0.7.1 in c:\\florence personal\\documents\\data science projects\\amdari accelerate internship projects folder\\medoptix_project_folder\\med_env\\lib\\site-packages (from boto3) (1.0.1)\n",
      "Requirement already satisfied: s3transfer<0.14.0,>=0.13.0 in c:\\florence personal\\documents\\data science projects\\amdari accelerate internship projects folder\\medoptix_project_folder\\med_env\\lib\\site-packages (from boto3) (0.13.0)\n",
      "Requirement already satisfied: python-dateutil<3.0.0,>=2.1 in c:\\florence personal\\documents\\data science projects\\amdari accelerate internship projects folder\\medoptix_project_folder\\med_env\\lib\\site-packages (from botocore<1.40.0,>=1.39.3->boto3) (2.9.0.post0)\n",
      "Requirement already satisfied: urllib3!=2.2.0,<3,>=1.25.4 in c:\\florence personal\\documents\\data science projects\\amdari accelerate internship projects folder\\medoptix_project_folder\\med_env\\lib\\site-packages (from botocore<1.40.0,>=1.39.3->boto3) (2.5.0)\n",
      "Requirement already satisfied: six>=1.5 in c:\\florence personal\\documents\\data science projects\\amdari accelerate internship projects folder\\medoptix_project_folder\\med_env\\lib\\site-packages (from python-dateutil<3.0.0,>=2.1->botocore<1.40.0,>=1.39.3->boto3) (1.17.0)\n"
     ]
    }
   ],
   "source": [
    "# Import dependencies\n",
    "!pip install boto3\n",
    "import os"
   ]
  },
  {
   "cell_type": "code",
   "execution_count": 16,
   "id": "f9b8ddde",
   "metadata": {},
   "outputs": [
    {
     "ename": "FileNotFoundError",
     "evalue": "[WinError 3] The system cannot find the path specified: '/medoptix_data'",
     "output_type": "error",
     "traceback": [
      "\u001b[31m---------------------------------------------------------------------------\u001b[39m",
      "\u001b[31mFileNotFoundError\u001b[39m                         Traceback (most recent call last)",
      "\u001b[36mCell\u001b[39m\u001b[36m \u001b[39m\u001b[32mIn[16]\u001b[39m\u001b[32m, line 10\u001b[39m\n\u001b[32m      7\u001b[39m s3 = boto3.client(\u001b[33m\"\u001b[39m\u001b[33ms3\u001b[39m\u001b[33m\"\u001b[39m)\n\u001b[32m      9\u001b[39m \u001b[38;5;66;03m# Upload all CSVs in folder with ACL: bucket-owner-full-control \u001b[39;00m\n\u001b[32m---> \u001b[39m\u001b[32m10\u001b[39m \u001b[38;5;28;01mfor\u001b[39;00m filename \u001b[38;5;129;01min\u001b[39;00m \u001b[43mos\u001b[49m\u001b[43m.\u001b[49m\u001b[43mlistdir\u001b[49m\u001b[43m(\u001b[49m\u001b[43mfolder_data\u001b[49m\u001b[43m)\u001b[49m:\n\u001b[32m     11\u001b[39m     \u001b[38;5;28;01mif\u001b[39;00m filename.endswith(\u001b[33m\"\u001b[39m\u001b[33m.csv\u001b[39m\u001b[33m\"\u001b[39m):\n\u001b[32m     12\u001b[39m         filepath = os.path.join(folder_data, filename)\n",
      "\u001b[31mFileNotFoundError\u001b[39m: [WinError 3] The system cannot find the path specified: '/medoptix_data'"
     ]
    }
   ],
   "source": [
    "# Setup\n",
    "bucket_name = \"flo-amdari-demo-etl\"\n",
    "folder_data = \"/medoptix_data\"\n",
    "target_folder = \"/medoptix/raw/\"\n",
    "\n",
    "# AWS credentials assumed to be in ~/.aws/credentials or env vars\n",
    "s3 = boto3.client(\"s3\")\n",
    "\n",
    "# Upload all CSVs in folder with ACL: bucket-owner-full-control \n",
    "for filename in os.listdir(folder_data):\n",
    "    if filename.endswith(\".csv\"):\n",
    "        filepath = os.path.join(folder_data, filename)\n",
    "        s3.upload.file(\n",
    "            Filename = filepath,\n",
    "            Bucket = bucket_name,\n",
    "            Key = target_folder + filename\n",
    "        )\n",
    "        print(f\"uploaded(filename) successfully\")\n",
    "\n"
   ]
  },
  {
   "cell_type": "code",
   "execution_count": 13,
   "id": "a0e9d95a",
   "metadata": {},
   "outputs": [
    {
     "name": "stdout",
     "output_type": "stream",
     "text": [
      "1.39.3\n"
     ]
    }
   ],
   "source": [
    "import boto3\n",
    "print(boto3.__version__)\n"
   ]
  },
  {
   "cell_type": "code",
   "execution_count": null,
   "id": "c33345c5",
   "metadata": {},
   "outputs": [],
   "source": []
  },
  {
   "cell_type": "code",
   "execution_count": null,
   "id": "0fe78344",
   "metadata": {},
   "outputs": [],
   "source": []
  },
  {
   "cell_type": "code",
   "execution_count": null,
   "id": "cb511aa5",
   "metadata": {},
   "outputs": [],
   "source": []
  },
  {
   "cell_type": "code",
   "execution_count": null,
   "id": "ee147c26",
   "metadata": {},
   "outputs": [],
   "source": []
  }
 ],
 "metadata": {
  "kernelspec": {
   "display_name": "med_env",
   "language": "python",
   "name": "python3"
  },
  "language_info": {
   "codemirror_mode": {
    "name": "ipython",
    "version": 3
   },
   "file_extension": ".py",
   "mimetype": "text/x-python",
   "name": "python",
   "nbconvert_exporter": "python",
   "pygments_lexer": "ipython3",
   "version": "3.11.11"
  }
 },
 "nbformat": 4,
 "nbformat_minor": 5
}
